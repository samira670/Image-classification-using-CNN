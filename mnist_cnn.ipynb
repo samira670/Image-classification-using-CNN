{
  "cells": [
    {
      "cell_type": "code",
      "execution_count": 1,
      "metadata": {
        "id": "HZ2YDnx1mo-d"
      },
      "outputs": [],
      "source": [
        "from tensorflow.keras import datasets, utils, models, layers, optimizers, losses\n",
        "import numpy as np\n",
        "import matplotlib.pyplot as plt"
      ]
    },
    {
      "cell_type": "markdown",
      "metadata": {
        "id": "3v1cXzGdmxpb"
      },
      "source": [
        "## Data Preparation"
      ]
    },
    {
      "cell_type": "code",
      "execution_count": null,
      "metadata": {
        "colab": {
          "base_uri": "https://localhost:8080/"
        },
        "id": "Y3_oeTxtm0YK",
        "outputId": "b5bc130d-a8cd-4e50-eed2-e6f68d81a50a"
      },
      "outputs": [
        {
          "name": "stdout",
          "output_type": "stream",
          "text": [
            "Downloading data from https://storage.googleapis.com/tensorflow/tf-keras-datasets/mnist.npz\n",
            "11493376/11490434 [==============================] - 0s 0us/step\n",
            "5\n",
            "[0. 0. 0. 0. 0. 1. 0. 0. 0. 0.]\n"
          ]
        }
      ],
      "source": [
        "(train_images, train_labels), (test_images, test_labels) = datasets.mnist.load_data()\n",
        "\n",
        "# Preprocessing\n",
        "X_train = train_images.reshape(60000, 28, 28, 1)\n",
        "X_test = test_images.reshape(10000, 28, 28, 1)\n",
        "\n",
        "# Normalizing (0-1)\n",
        "X_train = X_train.astype('float32') / 255\n",
        "X_test =  X_test.astype('float32') / 255\n",
        "\n",
        "Y_train = utils.to_categorical(train_labels)\n",
        "Y_test = utils.to_categorical(test_labels)\n",
        "\n",
        "print(train_labels[0])\n",
        "print(Y_train[0])"
      ]
    },
    {
      "cell_type": "markdown",
      "metadata": {
        "id": "paSZWSPvnKyK"
      },
      "source": [
        "## Model Creation"
      ]
    },
    {
      "cell_type": "code",
      "execution_count": null,
      "metadata": {
        "colab": {
          "base_uri": "https://localhost:8080/"
        },
        "id": "a-HhYlBinMZp",
        "outputId": "c60caba7-73e0-4c35-d78c-f11e5978c643"
      },
      "outputs": [
        {
          "name": "stdout",
          "output_type": "stream",
          "text": [
            "Model: \"model\"\n",
            "_________________________________________________________________\n",
            "Layer (type)                 Output Shape              Param #   \n",
            "=================================================================\n",
            "input_1 (InputLayer)         [(None, 28, 28, 1)]       0         \n",
            "_________________________________________________________________\n",
            "conv2d (Conv2D)              (None, 14, 14, 16)        160       \n",
            "_________________________________________________________________\n",
            "conv2d_1 (Conv2D)            (None, 7, 7, 32)          4640      \n",
            "_________________________________________________________________\n",
            "flatten (Flatten)            (None, 1568)              0         \n",
            "_________________________________________________________________\n",
            "dense (Dense)                (None, 10)                15690     \n",
            "=================================================================\n",
            "Total params: 20,490\n",
            "Trainable params: 20,490\n",
            "Non-trainable params: 0\n",
            "_________________________________________________________________\n"
          ]
        },
        {
          "name": "stderr",
          "output_type": "stream",
          "text": [
            "/usr/local/lib/python3.7/dist-packages/tensorflow/python/keras/optimizer_v2/optimizer_v2.py:375: UserWarning: The `lr` argument is deprecated, use `learning_rate` instead.\n",
            "  \"The `lr` argument is deprecated, use `learning_rate` instead.\")\n"
          ]
        }
      ],
      "source": [
        "myInput = layers.Input(shape=(28,28,1))\n",
        "## the first Conv layer has 32 Filters and the size of them are 3*3 the output size would be the half the output would be 14*14 \n",
        "conv1 = layers.Conv2D(32, 3, activation='relu', padding='same', strides=2)(myInput)\n",
        "conv2 = layers.Conv2D(64, 3, activation='relu', padding='same', strides=2)(conv1)\n",
        "\n",
        "# Change the image to vector in order to be connected to the dense layer\n",
        "flat = layers.Flatten()(conv2)\n",
        "\n",
        "#10 class because we have 10 digits\n",
        "out_layer = layers.Dense(10, activation='softmax')(flat)\n",
        "\n",
        "myModel = models.Model(myInput, out_layer)\n",
        "\n",
        "myModel.summary()\n",
        "myModel.compile(optimizer=optimizers.SGD(lr=0.001), loss=losses.categorical_crossentropy)"
      ]
    },
    {
      "cell_type": "markdown",
      "metadata": {
        "id": "gMy8gsRfokP-"
      },
      "source": [
        "## Train and Evaluation"
      ]
    },
    {
      "cell_type": "code",
      "execution_count": null,
      "metadata": {
        "colab": {
          "base_uri": "https://localhost:8080/"
        },
        "id": "KQ_tuaChom3B",
        "outputId": "32a91a4d-d4f6-4149-cc13-555e545ce1db"
      },
      "outputs": [
        {
          "name": "stdout",
          "output_type": "stream",
          "text": [
            "Epoch 1/50\n",
            "375/375 [==============================] - 1s 4ms/step - loss: 0.2796 - val_loss: 0.2655\n",
            "Epoch 2/50\n",
            "375/375 [==============================] - 1s 3ms/step - loss: 0.2782 - val_loss: 0.2643\n",
            "Epoch 3/50\n",
            "375/375 [==============================] - 1s 3ms/step - loss: 0.2766 - val_loss: 0.2636\n",
            "Epoch 4/50\n",
            "375/375 [==============================] - 1s 3ms/step - loss: 0.2753 - val_loss: 0.2619\n",
            "Epoch 5/50\n",
            "375/375 [==============================] - 1s 3ms/step - loss: 0.2737 - val_loss: 0.2607\n",
            "Epoch 6/50\n",
            "375/375 [==============================] - 1s 3ms/step - loss: 0.2723 - val_loss: 0.2596\n",
            "Epoch 7/50\n",
            "375/375 [==============================] - 1s 3ms/step - loss: 0.2709 - val_loss: 0.2587\n",
            "Epoch 8/50\n",
            "375/375 [==============================] - 1s 3ms/step - loss: 0.2694 - val_loss: 0.2570\n",
            "Epoch 9/50\n",
            "375/375 [==============================] - 1s 3ms/step - loss: 0.2679 - val_loss: 0.2560\n",
            "Epoch 10/50\n",
            "375/375 [==============================] - 1s 3ms/step - loss: 0.2665 - val_loss: 0.2546\n",
            "Epoch 11/50\n",
            "375/375 [==============================] - 1s 3ms/step - loss: 0.2651 - val_loss: 0.2533\n",
            "Epoch 12/50\n",
            "375/375 [==============================] - 1s 3ms/step - loss: 0.2637 - val_loss: 0.2515\n",
            "Epoch 13/50\n",
            "375/375 [==============================] - 1s 3ms/step - loss: 0.2621 - val_loss: 0.2507\n",
            "Epoch 14/50\n",
            "375/375 [==============================] - 1s 3ms/step - loss: 0.2608 - val_loss: 0.2498\n",
            "Epoch 15/50\n",
            "375/375 [==============================] - 1s 3ms/step - loss: 0.2595 - val_loss: 0.2479\n",
            "Epoch 16/50\n",
            "375/375 [==============================] - 1s 3ms/step - loss: 0.2580 - val_loss: 0.2469\n",
            "Epoch 17/50\n",
            "375/375 [==============================] - 1s 3ms/step - loss: 0.2567 - val_loss: 0.2454\n",
            "Epoch 18/50\n",
            "375/375 [==============================] - 1s 3ms/step - loss: 0.2551 - val_loss: 0.2446\n",
            "Epoch 19/50\n",
            "375/375 [==============================] - 1s 4ms/step - loss: 0.2539 - val_loss: 0.2430\n",
            "Epoch 20/50\n",
            "375/375 [==============================] - 1s 4ms/step - loss: 0.2524 - val_loss: 0.2420\n",
            "Epoch 21/50\n",
            "375/375 [==============================] - 1s 4ms/step - loss: 0.2509 - val_loss: 0.2413\n",
            "Epoch 22/50\n",
            "375/375 [==============================] - 1s 3ms/step - loss: 0.2497 - val_loss: 0.2397\n",
            "Epoch 23/50\n",
            "375/375 [==============================] - 1s 3ms/step - loss: 0.2482 - val_loss: 0.2385\n",
            "Epoch 24/50\n",
            "375/375 [==============================] - 1s 4ms/step - loss: 0.2469 - val_loss: 0.2375\n",
            "Epoch 25/50\n",
            "375/375 [==============================] - 1s 3ms/step - loss: 0.2454 - val_loss: 0.2361\n",
            "Epoch 26/50\n",
            "375/375 [==============================] - 1s 4ms/step - loss: 0.2440 - val_loss: 0.2350\n",
            "Epoch 27/50\n",
            "375/375 [==============================] - 1s 3ms/step - loss: 0.2426 - val_loss: 0.2348\n",
            "Epoch 28/50\n",
            "375/375 [==============================] - 1s 3ms/step - loss: 0.2412 - val_loss: 0.2323\n",
            "Epoch 29/50\n",
            "375/375 [==============================] - 1s 3ms/step - loss: 0.2399 - val_loss: 0.2306\n",
            "Epoch 30/50\n",
            "375/375 [==============================] - 1s 3ms/step - loss: 0.2387 - val_loss: 0.2293\n",
            "Epoch 31/50\n",
            "375/375 [==============================] - 1s 4ms/step - loss: 0.2373 - val_loss: 0.2286\n",
            "Epoch 32/50\n",
            "375/375 [==============================] - 1s 3ms/step - loss: 0.2358 - val_loss: 0.2271\n",
            "Epoch 33/50\n",
            "375/375 [==============================] - 1s 3ms/step - loss: 0.2346 - val_loss: 0.2259\n",
            "Epoch 34/50\n",
            "375/375 [==============================] - 1s 4ms/step - loss: 0.2333 - val_loss: 0.2250\n",
            "Epoch 35/50\n",
            "375/375 [==============================] - 1s 3ms/step - loss: 0.2320 - val_loss: 0.2234\n",
            "Epoch 36/50\n",
            "375/375 [==============================] - 1s 3ms/step - loss: 0.2307 - val_loss: 0.2221\n",
            "Epoch 37/50\n",
            "375/375 [==============================] - 1s 3ms/step - loss: 0.2294 - val_loss: 0.2214\n",
            "Epoch 38/50\n",
            "375/375 [==============================] - 1s 3ms/step - loss: 0.2280 - val_loss: 0.2201\n",
            "Epoch 39/50\n",
            "375/375 [==============================] - 1s 3ms/step - loss: 0.2268 - val_loss: 0.2189\n",
            "Epoch 40/50\n",
            "375/375 [==============================] - 1s 3ms/step - loss: 0.2254 - val_loss: 0.2186\n",
            "Epoch 41/50\n",
            "375/375 [==============================] - 1s 3ms/step - loss: 0.2241 - val_loss: 0.2166\n",
            "Epoch 42/50\n",
            "375/375 [==============================] - 1s 3ms/step - loss: 0.2230 - val_loss: 0.2154\n",
            "Epoch 43/50\n",
            "375/375 [==============================] - 1s 3ms/step - loss: 0.2218 - val_loss: 0.2144\n",
            "Epoch 44/50\n",
            "375/375 [==============================] - 1s 3ms/step - loss: 0.2205 - val_loss: 0.2135\n",
            "Epoch 45/50\n",
            "375/375 [==============================] - 1s 3ms/step - loss: 0.2191 - val_loss: 0.2122\n",
            "Epoch 46/50\n",
            "375/375 [==============================] - 1s 3ms/step - loss: 0.2179 - val_loss: 0.2113\n",
            "Epoch 47/50\n",
            "375/375 [==============================] - 1s 3ms/step - loss: 0.2166 - val_loss: 0.2102\n",
            "Epoch 48/50\n",
            "375/375 [==============================] - 1s 3ms/step - loss: 0.2156 - val_loss: 0.2087\n",
            "Epoch 49/50\n",
            "375/375 [==============================] - 1s 3ms/step - loss: 0.2143 - val_loss: 0.2078\n",
            "Epoch 50/50\n",
            "375/375 [==============================] - 1s 3ms/step - loss: 0.2130 - val_loss: 0.2071\n"
          ]
        }
      ],
      "source": [
        "history = myModel.fit(X_train, Y_train, batch_size=128, epochs=50, validation_split=0.2)"
      ]
    },
    {
      "cell_type": "code",
      "execution_count": null,
      "metadata": {
        "colab": {
          "base_uri": "https://localhost:8080/",
          "height": 297
        },
        "id": "MCVECDRDoqXI",
        "outputId": "adc5f2c0-8856-426d-8d9f-5ad065471be3"
      },
      "outputs": [
        {
          "data": {
            "text/plain": [
              "<matplotlib.legend.Legend at 0x7facb036b410>"
            ]
          },
          "execution_count": 9,
          "metadata": {
            "tags": []
          },
          "output_type": "execute_result"
        },
        {
          "data": {
            "image/png": "[encoded data removed]",
            "text/plain": [
              "<Figure size 432x288 with 1 Axes>"
            ]
          },
          "metadata": {
            "needs_background": "light",
            "tags": []
          },
          "output_type": "display_data"
        }
      ],
      "source": [
        "# Plot Losses\n",
        "losses = history.history['loss']\n",
        "val_losses = history.history['val_loss']\n",
        "\n",
        "plt.plot(losses)\n",
        "plt.plot(val_losses)\n",
        "plt.xlabel('Epochs')\n",
        "plt.ylabel('Loss')\n",
        "plt.legend(['loss', 'val_loss'])"
      ]
    },
    {
      "cell_type": "code",
      "execution_count": null,
      "metadata": {
        "colab": {
          "base_uri": "https://localhost:8080/",
          "height": 145
        },
        "id": "tr3L0AE2os5A",
        "outputId": "7f917ce6-7d8b-4c92-e04f-03132b548520"
      },
      "outputs": [
        {
          "name": "stdout",
          "output_type": "stream",
          "text": [
            "313/313 [==============================] - 1s 2ms/step - loss: 0.2015\n",
            "test loss:  0.20152148604393005\n"
          ]
        },
        {
          "data": {
            "image/png": "[encoded data removed]",
            "text/plain": [
              "<Figure size 1080x1080 with 10 Axes>"
            ]
          },
          "metadata": {
            "needs_background": "light",
            "tags": []
          },
          "output_type": "display_data"
        }
      ],
      "source": [
        "# Evaluation on Test Data\n",
        "test_loss = myModel.evaluate(X_test, Y_test)\n",
        "print(\"test loss: \", test_loss)\n",
        "\n",
        "test_labels_p = myModel.predict(X_test)\n",
        "test_labels_p = np.argmax(test_labels_p, axis=1)\n",
        "\n",
        "n = 0\n",
        "f, axs = plt.subplots(1,10,figsize=(15,15))\n",
        "for i in range(len(test_labels)):\n",
        "    if n >= 10:\n",
        "      break\n",
        "    if (test_labels_p[i] != test_labels[i]):\n",
        "      axs[n].imshow(test_images[i], cmap='gray')\n",
        "      axs[n].set_title(f'{test_labels[i]} -> {test_labels_p[i]}')\n",
        "      axs[n].axis('off')\n",
        "      n = n+1"
      ]
    }
  ],
  "metadata": {
    "accelerator": "GPU",
    "colab": {
      "provenance": []
    },
    "kernelspec": {
      "display_name": "Python 3",
      "language": "python",
      "name": "python3"
    },
    "language_info": {
      "codemirror_mode": {
        "name": "ipython",
        "version": 3
      },
      "file_extension": ".py",
      "mimetype": "text/x-python",
      "name": "python",
      "nbconvert_exporter": "python",
      "pygments_lexer": "ipython3",
      "version": "3.8.8"
    }
  },
  "nbformat": 4,
  "nbformat_minor": 0
}